{
 "cells": [
  {
   "cell_type": "code",
   "execution_count": 14,
   "id": "9507ae10",
   "metadata": {},
   "outputs": [
    {
     "data": {
      "text/html": [
       "<div>\n",
       "<style scoped>\n",
       "    .dataframe tbody tr th:only-of-type {\n",
       "        vertical-align: middle;\n",
       "    }\n",
       "\n",
       "    .dataframe tbody tr th {\n",
       "        vertical-align: top;\n",
       "    }\n",
       "\n",
       "    .dataframe thead th {\n",
       "        text-align: right;\n",
       "    }\n",
       "</style>\n",
       "<table border=\"1\" class=\"dataframe\">\n",
       "  <thead>\n",
       "    <tr style=\"text-align: right;\">\n",
       "      <th></th>\n",
       "      <th>sepal_length</th>\n",
       "      <th>sepal_width</th>\n",
       "      <th>petal_length</th>\n",
       "      <th>petal_width</th>\n",
       "      <th>species</th>\n",
       "    </tr>\n",
       "  </thead>\n",
       "  <tbody>\n",
       "    <tr>\n",
       "      <th>0</th>\n",
       "      <td>5.1</td>\n",
       "      <td>3.5</td>\n",
       "      <td>1.4</td>\n",
       "      <td>0.2</td>\n",
       "      <td>setosa</td>\n",
       "    </tr>\n",
       "    <tr>\n",
       "      <th>1</th>\n",
       "      <td>4.9</td>\n",
       "      <td>3.0</td>\n",
       "      <td>1.4</td>\n",
       "      <td>0.2</td>\n",
       "      <td>setosa</td>\n",
       "    </tr>\n",
       "    <tr>\n",
       "      <th>2</th>\n",
       "      <td>4.7</td>\n",
       "      <td>3.2</td>\n",
       "      <td>1.3</td>\n",
       "      <td>0.2</td>\n",
       "      <td>setosa</td>\n",
       "    </tr>\n",
       "    <tr>\n",
       "      <th>3</th>\n",
       "      <td>4.6</td>\n",
       "      <td>3.1</td>\n",
       "      <td>1.5</td>\n",
       "      <td>0.2</td>\n",
       "      <td>setosa</td>\n",
       "    </tr>\n",
       "    <tr>\n",
       "      <th>4</th>\n",
       "      <td>5.0</td>\n",
       "      <td>3.6</td>\n",
       "      <td>1.4</td>\n",
       "      <td>0.2</td>\n",
       "      <td>setosa</td>\n",
       "    </tr>\n",
       "  </tbody>\n",
       "</table>\n",
       "</div>"
      ],
      "text/plain": [
       "   sepal_length  sepal_width  petal_length  petal_width species\n",
       "0           5.1          3.5           1.4          0.2  setosa\n",
       "1           4.9          3.0           1.4          0.2  setosa\n",
       "2           4.7          3.2           1.3          0.2  setosa\n",
       "3           4.6          3.1           1.5          0.2  setosa\n",
       "4           5.0          3.6           1.4          0.2  setosa"
      ]
     },
     "execution_count": 14,
     "metadata": {},
     "output_type": "execute_result"
    }
   ],
   "source": [
    "import seaborn as sns\n",
    "import pandas as pd\n",
    "\n",
    "iris = sns.load_dataset('iris')\n",
    "iris.head()\n"
   ]
  },
  {
   "cell_type": "code",
   "execution_count": 15,
   "id": "dfdd0c49",
   "metadata": {},
   "outputs": [
    {
     "data": {
      "text/html": [
       "<div>\n",
       "<style scoped>\n",
       "    .dataframe tbody tr th:only-of-type {\n",
       "        vertical-align: middle;\n",
       "    }\n",
       "\n",
       "    .dataframe tbody tr th {\n",
       "        vertical-align: top;\n",
       "    }\n",
       "\n",
       "    .dataframe thead th {\n",
       "        text-align: right;\n",
       "    }\n",
       "</style>\n",
       "<table border=\"1\" class=\"dataframe\">\n",
       "  <thead>\n",
       "    <tr style=\"text-align: right;\">\n",
       "      <th></th>\n",
       "      <th>count</th>\n",
       "      <th>mean</th>\n",
       "      <th>std</th>\n",
       "      <th>min</th>\n",
       "      <th>25%</th>\n",
       "      <th>50%</th>\n",
       "      <th>75%</th>\n",
       "      <th>max</th>\n",
       "    </tr>\n",
       "    <tr>\n",
       "      <th>species</th>\n",
       "      <th></th>\n",
       "      <th></th>\n",
       "      <th></th>\n",
       "      <th></th>\n",
       "      <th></th>\n",
       "      <th></th>\n",
       "      <th></th>\n",
       "      <th></th>\n",
       "    </tr>\n",
       "  </thead>\n",
       "  <tbody>\n",
       "    <tr>\n",
       "      <th>setosa</th>\n",
       "      <td>50.0</td>\n",
       "      <td>1.462</td>\n",
       "      <td>0.173664</td>\n",
       "      <td>1.0</td>\n",
       "      <td>1.4</td>\n",
       "      <td>1.50</td>\n",
       "      <td>1.575</td>\n",
       "      <td>1.9</td>\n",
       "    </tr>\n",
       "    <tr>\n",
       "      <th>versicolor</th>\n",
       "      <td>50.0</td>\n",
       "      <td>4.260</td>\n",
       "      <td>0.469911</td>\n",
       "      <td>3.0</td>\n",
       "      <td>4.0</td>\n",
       "      <td>4.35</td>\n",
       "      <td>4.600</td>\n",
       "      <td>5.1</td>\n",
       "    </tr>\n",
       "    <tr>\n",
       "      <th>virginica</th>\n",
       "      <td>50.0</td>\n",
       "      <td>5.552</td>\n",
       "      <td>0.551895</td>\n",
       "      <td>4.5</td>\n",
       "      <td>5.1</td>\n",
       "      <td>5.55</td>\n",
       "      <td>5.875</td>\n",
       "      <td>6.9</td>\n",
       "    </tr>\n",
       "  </tbody>\n",
       "</table>\n",
       "</div>"
      ],
      "text/plain": [
       "            count   mean       std  min  25%   50%    75%  max\n",
       "species                                                       \n",
       "setosa       50.0  1.462  0.173664  1.0  1.4  1.50  1.575  1.9\n",
       "versicolor   50.0  4.260  0.469911  3.0  4.0  4.35  4.600  5.1\n",
       "virginica    50.0  5.552  0.551895  4.5  5.1  5.55  5.875  6.9"
      ]
     },
     "execution_count": 15,
     "metadata": {},
     "output_type": "execute_result"
    }
   ],
   "source": [
    "iris.groupby('species')['petal_length'].describe()\n"
   ]
  },
  {
   "cell_type": "code",
   "execution_count": 16,
   "id": "baa4aaa5",
   "metadata": {},
   "outputs": [
    {
     "data": {
      "image/png": "[encoded data removed]",
      "text/plain": [
       "<Figure size 640x480 with 1 Axes>"
      ]
     },
     "metadata": {},
     "output_type": "display_data"
    }
   ],
   "source": [
    "import matplotlib.pyplot as plt\n",
    "import seaborn as sns\n",
    "\n",
    "sns.boxplot(x='species', y='petal_length', data=iris)\n",
    "plt.title('Petal Length by Species')\n",
    "plt.show()\n"
   ]
  },
  {
   "cell_type": "markdown",
   "id": "ccb16d67",
   "metadata": {},
   "source": [
    "- 전체적으로 세 그룹 간에 꽃잎 길이 차이가 있어 보인다.\n",
    "- virginica는 값이 높은 편이고, setosa는 많이 낮다.\n",
    "- 그룹마다 분포가 다르게 보이는데, 이게 통계적으로도 유의한지 확인해봐야겠다."
   ]
  },
  {
   "cell_type": "code",
   "execution_count": 17,
   "id": "07694626",
   "metadata": {},
   "outputs": [
    {
     "name": "stdout",
     "output_type": "stream",
     "text": [
      "setosa - p-value: 0.0548\n",
      "versicolor - p-value: 0.1585\n",
      "virginica - p-value: 0.1098\n"
     ]
    }
   ],
   "source": [
    "from scipy.stats import shapiro\n",
    "\n",
    "for species in iris['species'].unique():\n",
    "    group = iris[iris['species'] == species]['petal_length']\n",
    "    stat, p = shapiro(group)\n",
    "    print(f'{species} - p-value: {p:.4f}')\n"
   ]
  },
  {
   "cell_type": "markdown",
   "id": "160206af",
   "metadata": {},
   "source": [
    "- setosa, versicolor, virginica 모두 정규분포를 따른다고 볼 수 있다.\n"
   ]
  },
  {
   "cell_type": "code",
   "execution_count": 18,
   "id": "7ff7530a",
   "metadata": {},
   "outputs": [
    {
     "name": "stdout",
     "output_type": "stream",
     "text": [
      "Levene test p-value: 0.0000\n"
     ]
    }
   ],
   "source": [
    "from scipy.stats import levene\n",
    "\n",
    "setosa = iris[iris['species'] == 'setosa']['petal_length']\n",
    "versicolor = iris[iris['species'] == 'versicolor']['petal_length']\n",
    "virginica = iris[iris['species'] == 'virginica']['petal_length']\n",
    "\n",
    "stat, p = levene(setosa, versicolor, virginica)\n",
    "print(f'Levene test p-value: {p:.4f}')\n"
   ]
  },
  {
   "cell_type": "markdown",
   "id": "8e200df6",
   "metadata": {},
   "source": [
    "- 분산이 같지 않다는 결과가 나왔지만, 과제에서는 같다고 가정하라고 했으니 그대로 진행한다.\n"
   ]
  },
  {
   "cell_type": "markdown",
   "id": "58f1b8c3",
   "metadata": {},
   "source": [
    " -가설 수립하기!    \n",
    " H₀: 3개 species 간 petal_length 평균은 모두 같다.\n",
    " H₁: 적어도 하나의 species의 petal_length 평균은 다르다."
   ]
  },
  {
   "cell_type": "code",
   "execution_count": 19,
   "id": "709cbe99",
   "metadata": {},
   "outputs": [
    {
     "name": "stdout",
     "output_type": "stream",
     "text": [
      "            sum_sq     df            F        PR(>F)\n",
      "species   437.1028    2.0  1180.161182  2.856777e-91\n",
      "Residual   27.2226  147.0          NaN           NaN\n"
     ]
    }
   ],
   "source": [
    "import statsmodels.api as sm\n",
    "from statsmodels.formula.api import ols\n",
    "\n",
    "# ANOVA 모델 적합\n",
    "model = ols('petal_length ~ species', data=iris).fit()\n",
    "anova_table = sm.stats.anova_lm(model, typ=2)\n",
    "\n",
    "# 결과 출력\n",
    "print(anova_table)\n"
   ]
  },
  {
   "cell_type": "markdown",
   "id": "476484f2",
   "metadata": {},
   "source": [
    "- ANOVA 결과, p-value = 2.8568e-91 < 0.05 이므로 귀무가설을 기각한다.\n",
    "- 세 종의 petal_length 평균은 적어도 하나 이상 통계적으로 유의미한 차이가 있는 것으로 나타났다.\n"
   ]
  },
  {
   "cell_type": "code",
   "execution_count": 20,
   "id": "65b5e437",
   "metadata": {},
   "outputs": [
    {
     "name": "stdout",
     "output_type": "stream",
     "text": [
      "   Multiple Comparison of Means - Tukey HSD, FWER=0.05   \n",
      "=========================================================\n",
      "  group1     group2   meandiff p-adj lower  upper  reject\n",
      "---------------------------------------------------------\n",
      "    setosa versicolor    2.798   0.0 2.5942 3.0018   True\n",
      "    setosa  virginica     4.09   0.0 3.8862 4.2938   True\n",
      "versicolor  virginica    1.292   0.0 1.0882 1.4958   True\n",
      "---------------------------------------------------------\n"
     ]
    }
   ],
   "source": [
    "from statsmodels.stats.multicomp import pairwise_tukeyhsd\n",
    "\n",
    "# Tukey HSD 사후검정 실행\n",
    "tukey = pairwise_tukeyhsd(endog=iris['petal_length'],\n",
    "                          groups=iris['species'],\n",
    "                          alpha=0.05)\n",
    "\n",
    "# 결과 출력\n",
    "print(tukey)\n",
    "\n"
   ]
  },
  {
   "cell_type": "markdown",
   "id": "21512f3e",
   "metadata": {},
   "source": [
    "- Tukey HSD 사후검정 결과, 모든 그룹 간 평균 차이가 통계적으로 유의미하였다 (p < 0.05).\n",
    "- 따라서 setosa, versicolor, virginica는 각각의 petal_length 평균이 모두 다르다고 할 수 있다.\n"
   ]
  },
  {
   "cell_type": "markdown",
   "id": "4925d8da",
   "metadata": {},
   "source": [
    "Boxplot을 통해 세 종(setosa, versicolor, virginica) 간의 petal_length 분포 차이가 시각적으로 확인되었다.  \n",
    "ANOVA 분석 결과 p-value < 0.05로 통계적으로 유의미한 평균 차이가 있었으며,  \n",
    "Tukey HSD 사후검정 결과 모든 그룹 간 평균 차이가 유의하게 나타났다.  \n",
    "따라서 세 종의 꽃잎 길이는 통계적으로 서로 다르다고 결론지을 수 있다.\n"
   ]
  },
  {
   "cell_type": "code",
   "execution_count": 21,
   "id": "f656664d",
   "metadata": {},
   "outputs": [
    {
     "name": "stdout",
     "output_type": "stream",
     "text": [
      "(284807, 31)\n",
      "<class 'pandas.core.frame.DataFrame'>\n",
      "RangeIndex: 284807 entries, 0 to 284806\n",
      "Data columns (total 31 columns):\n",
      " #   Column  Non-Null Count   Dtype  \n",
      "---  ------  --------------   -----  \n",
      " 0   Time    284807 non-null  float64\n",
      " 1   V1      284807 non-null  float64\n",
      " 2   V2      284807 non-null  float64\n",
      " 3   V3      284807 non-null  float64\n",
      " 4   V4      284807 non-null  float64\n",
      " 5   V5      284807 non-null  float64\n",
      " 6   V6      284807 non-null  float64\n",
      " 7   V7      284807 non-null  float64\n",
      " 8   V8      284807 non-null  float64\n",
      " 9   V9      284807 non-null  float64\n",
      " 10  V10     284807 non-null  float64\n",
      " 11  V11     284807 non-null  float64\n",
      " 12  V12     284807 non-null  float64\n",
      " 13  V13     284807 non-null  float64\n",
      " 14  V14     284807 non-null  float64\n",
      " 15  V15     284807 non-null  float64\n",
      " 16  V16     284807 non-null  float64\n",
      " 17  V17     284807 non-null  float64\n",
      " 18  V18     284807 non-null  float64\n",
      " 19  V19     284807 non-null  float64\n",
      " 20  V20     284807 non-null  float64\n",
      " 21  V21     284807 non-null  float64\n",
      " 22  V22     284807 non-null  float64\n",
      " 23  V23     284807 non-null  float64\n",
      " 24  V24     284807 non-null  float64\n",
      " 25  V25     284807 non-null  float64\n",
      " 26  V26     284807 non-null  float64\n",
      " 27  V27     284807 non-null  float64\n",
      " 28  V28     284807 non-null  float64\n",
      " 29  Amount  284807 non-null  float64\n",
      " 30  Class   284807 non-null  int64  \n",
      "dtypes: float64(30), int64(1)\n",
      "memory usage: 67.4 MB\n",
      "None\n",
      "Class\n",
      "0    284315\n",
      "1       492\n",
      "Name: count, dtype: int64\n"
     ]
    }
   ],
   "source": [
    "import pandas as pd\n",
    "\n",
    "# CSV 파일 로드\n",
    "df = pd.read_csv('creditcard.csv')\n",
    "\n",
    "# 데이터 구조 확인\n",
    "print(df.shape)\n",
    "print(df.info())\n",
    "print(df['Class'].value_counts())\n"
   ]
  },
  {
   "cell_type": "markdown",
   "id": "693c39da",
   "metadata": {},
   "source": [
    "전체 거래 중 284,315건은 정상 거래, 492건은 사기 거래로 라벨링되어 있다.  \n",
    "사기 거래 비율이 약 0.17%에 불과해 클래스 불균형 문제가 매우 심각하다.  \n",
    "따라서 이후 분석에서는 이를 해결하기 위한 샘플링 및 오버샘플링 기법이 필요하다.\n",
    "\n"
   ]
  },
  {
   "cell_type": "code",
   "execution_count": 22,
   "id": "7b6329fd",
   "metadata": {},
   "outputs": [
    {
     "name": "stdout",
     "output_type": "stream",
     "text": [
      "Class\n",
      "0    10000\n",
      "1      492\n",
      "Name: count, dtype: int64\n"
     ]
    }
   ],
   "source": [
    "from sklearn.utils import shuffle\n",
    "\n",
    "# 사기 거래만 추출\n",
    "fraud = df[df['Class'] == 1]\n",
    "\n",
    "# 정상 거래 중 10,000건만 무작위 추출\n",
    "normal = df[df['Class'] == 0].sample(n=10000, random_state=42)\n",
    "\n",
    "# 합치기\n",
    "sampled_df = pd.concat([fraud, normal])\n",
    "\n",
    "# 셔플\n",
    "sampled_df = shuffle(sampled_df, random_state=42)\n",
    "\n",
    "# 클래스 비율 확인\n",
    "print(sampled_df['Class'].value_counts())\n"
   ]
  },
  {
   "cell_type": "markdown",
   "id": "d98078d6",
   "metadata": {},
   "source": [
    "정상 거래는 10,000건만 무작위로 샘플링하고, 사기 거래는 전체를 유지하여  \n",
    "총 10,492건의 샘플링된 데이터셋을 구성하였다.  \n",
    "이로 인해 사기 거래 비율이 약 4.7%로 증가하여, 모델이 소수 클래스를 더 잘 학습할 수 있는 환경이 만들어졌다.\n"
   ]
  },
  {
   "cell_type": "code",
   "execution_count": 23,
   "id": "0a8a7d95",
   "metadata": {},
   "outputs": [],
   "source": [
    "from sklearn.preprocessing import StandardScaler\n",
    "\n",
    "# Amount 변수 스케일링\n",
    "scaler = StandardScaler()\n",
    "sampled_df['Amount_Scaled'] = scaler.fit_transform(sampled_df[['Amount']])\n",
    "\n",
    "# 원본 Amount 변수 제거\n",
    "sampled_df.drop(columns=['Amount'], inplace=True)\n",
    "\n",
    "# X, y 분리\n",
    "X = sampled_df.drop(columns=['Class'])\n",
    "y = sampled_df['Class']\n"
   ]
  },
  {
   "cell_type": "code",
   "execution_count": 24,
   "id": "2b535ca7",
   "metadata": {},
   "outputs": [
    {
     "name": "stdout",
     "output_type": "stream",
     "text": [
      "(8393, 30) (2099, 30)\n",
      "Class\n",
      "0    7999\n",
      "1     394\n",
      "Name: count, dtype: int64\n",
      "Class\n",
      "0    2001\n",
      "1      98\n",
      "Name: count, dtype: int64\n"
     ]
    }
   ],
   "source": [
    "from sklearn.model_selection import train_test_split\n",
    "\n",
    "X_train, X_test, y_train, y_test = train_test_split(\n",
    "    X, y, test_size=0.2, random_state=42, stratify=y\n",
    ")\n",
    "\n",
    "# 분할 확인\n",
    "print(X_train.shape, X_test.shape)\n",
    "print(y_train.value_counts())\n",
    "print(y_test.value_counts())\n"
   ]
  },
  {
   "cell_type": "markdown",
   "id": "a3ceb119",
   "metadata": {},
   "source": [
    "전체 10,492건의 데이터를 8:2 비율로 나누어 학습용과 테스트용 데이터셋을 구성하였다.  \n",
    "분할 시 `stratify` 옵션을 적용하여 사기 거래(Class=1)의 비율이 양쪽 데이터셋에 고르게 유지되도록 하였다.  \n",
    "이를 통해 클래스 불균형으로 인한 평가 왜곡을 방지할 수 있게 되었다.\n"
   ]
  },
  {
   "cell_type": "code",
   "execution_count": 25,
   "id": "9cacd010",
   "metadata": {},
   "outputs": [
    {
     "name": "stdout",
     "output_type": "stream",
     "text": [
      "Requirement already satisfied: imbalanced-learn in c:\\users\\binny\\anaconda3\\envs\\statsml\\lib\\site-packages (0.13.0)\n",
      "Requirement already satisfied: numpy<3,>=1.24.3 in c:\\users\\binny\\anaconda3\\envs\\statsml\\lib\\site-packages (from imbalanced-learn) (2.0.1)\n",
      "Requirement already satisfied: scipy<2,>=1.10.1 in c:\\users\\binny\\anaconda3\\envs\\statsml\\lib\\site-packages (from imbalanced-learn) (1.15.3)\n",
      "Requirement already satisfied: scikit-learn<2,>=1.3.2 in c:\\users\\binny\\anaconda3\\envs\\statsml\\lib\\site-packages (from imbalanced-learn) (1.6.1)\n",
      "Requirement already satisfied: sklearn-compat<1,>=0.1 in c:\\users\\binny\\anaconda3\\envs\\statsml\\lib\\site-packages (from imbalanced-learn) (0.1.3)\n",
      "Requirement already satisfied: joblib<2,>=1.1.1 in c:\\users\\binny\\anaconda3\\envs\\statsml\\lib\\site-packages (from imbalanced-learn) (1.5.1)\n",
      "Requirement already satisfied: threadpoolctl<4,>=2.0.0 in c:\\users\\binny\\anaconda3\\envs\\statsml\\lib\\site-packages (from imbalanced-learn) (3.6.0)\n"
     ]
    }
   ],
   "source": [
    "!pip install imbalanced-learn\n"
   ]
  },
  {
   "cell_type": "code",
   "execution_count": 26,
   "id": "9e431a3f",
   "metadata": {},
   "outputs": [
    {
     "name": "stdout",
     "output_type": "stream",
     "text": [
      "Class\n",
      "0    7999\n",
      "1     394\n",
      "Name: count, dtype: int64 \n",
      "---\n",
      "Class\n",
      "0    7999\n",
      "1    7999\n",
      "Name: count, dtype: int64\n"
     ]
    }
   ],
   "source": [
    "from imblearn.over_sampling import SMOTE\n",
    "\n",
    "# SMOTE 객체 생성\n",
    "smote = SMOTE(random_state=42)\n",
    "\n",
    "# 오버샘플링 적용 (X_train, y_train에만!)\n",
    "X_train_resampled, y_train_resampled = smote.fit_resample(X_train, y_train)\n",
    "\n",
    "# 적용 후 클래스 비율 확인\n",
    "print(y_train.value_counts(), \"\\n---\")\n",
    "print(y_train_resampled.value_counts())\n"
   ]
  },
  {
   "cell_type": "code",
   "execution_count": 29,
   "id": "bcfd1a70",
   "metadata": {},
   "outputs": [
    {
     "name": "stdout",
     "output_type": "stream",
     "text": [
      "[[1988   13]\n",
      " [  14   84]]\n",
      "              precision    recall  f1-score   support\n",
      "\n",
      "           0     0.9930    0.9935    0.9933      2001\n",
      "           1     0.8660    0.8571    0.8615        98\n",
      "\n",
      "    accuracy                         0.9871      2099\n",
      "   macro avg     0.9295    0.9253    0.9274      2099\n",
      "weighted avg     0.9871    0.9871    0.9871      2099\n",
      "\n"
     ]
    },
    {
     "name": "stderr",
     "output_type": "stream",
     "text": [
      "c:\\Users\\binny\\anaconda3\\envs\\statsml\\lib\\site-packages\\sklearn\\linear_model\\_logistic.py:465: ConvergenceWarning: lbfgs failed to converge (status=1):\n",
      "STOP: TOTAL NO. OF ITERATIONS REACHED LIMIT.\n",
      "\n",
      "Increase the number of iterations (max_iter) or scale the data as shown in:\n",
      "    https://scikit-learn.org/stable/modules/preprocessing.html\n",
      "Please also refer to the documentation for alternative solver options:\n",
      "    https://scikit-learn.org/stable/modules/linear_model.html#logistic-regression\n",
      "  n_iter_i = _check_optimize_result(\n"
     ]
    }
   ],
   "source": [
    "from sklearn.linear_model import LogisticRegression\n",
    "from sklearn.metrics import confusion_matrix, classification_report\n",
    "\n",
    "\n",
    "# 학습 및 예측\n",
    "model = LogisticRegression(max_iter=1000, random_state=42)\n",
    "model.fit(X_train_resampled, y_train_resampled)\n",
    "y_pred = model.predict(X_test)\n",
    "\n",
    "# 결과 확인\n",
    "print(confusion_matrix(y_test, y_pred))\n",
    "print(classification_report(y_test, y_pred, digits=4))\n"
   ]
  },
  {
   "cell_type": "markdown",
   "id": "4b73408b",
   "metadata": {},
   "source": [
    "SMOTE를 통해 학습 데이터의 클래스 불균형을 해소한 뒤,  \n",
    "로지스틱 회귀 모델을 학습하여 성능을 평가하였다.\n",
    "\n",
    "정상 거래(Class=0)는 precision 0.9930, recall 0.9935로 매우 높은 정확도를 보였고,  \n",
    "사기 거래(Class=1)는 recall 85.7%로 소수 클래스임에도 불구하고 비교적 높은 재현율을 기록했다.\n",
    "\n",
    "이는 SMOTE를 통해 소수 클래스 데이터를 충분히 학습한 덕분이며,  \n",
    "전체 accuracy 또한 98.71%로 우수한 수준을 유지하였다.\n"
   ]
  },
  {
   "cell_type": "code",
   "execution_count": 30,
   "id": "3eac6fa4",
   "metadata": {},
   "outputs": [
    {
     "name": "stdout",
     "output_type": "stream",
     "text": [
      "PR-AUC: 0.9032892217010472\n"
     ]
    }
   ],
   "source": [
    "from sklearn.metrics import average_precision_score\n",
    "\n",
    "y_prob = model.predict_proba(X_test)[:, 1]\n",
    "print(\"PR-AUC:\", average_precision_score(y_test, y_prob))\n"
   ]
  },
  {
   "cell_type": "markdown",
   "id": "1e28d8cb",
   "metadata": {},
   "source": [
    "### 최종 성능 평가\n",
    "\n",
    "로지스틱 회귀 모델을 기반으로 SMOTE를 적용하여 학습한 결과, 다음과 같은 성능을 확인할 수 있었다:\n",
    "\n",
    "- **Recall (Class=1)**: 0.8571\n",
    "- **F1-score (Class=1)**: 0.8615\n",
    "- **PR-AUC**: 0.9023\n",
    "\n",
    "제시된 기준인 Recall ≥ 0.80, F1 ≥ 0.88, PR-AUC ≥ 0.90 중,\n",
    "- Recall과 PR-AUC는 기준을 만족했지만,\n",
    "- F1-score는 **0.8615로 기준(0.88)에 미치지 못하였다.**\n",
    "\n",
    "이는 사기 거래(Class=1)의 예측 정밀도가 소폭 낮아져 F1-score가 영향을 받은 것으로 판단된다.  \n",
    "추가적으로 F1-score를 개선하기 위해 다음과 같은 방안을 고려할 수 있다:\n",
    "\n",
    "- **하이퍼파라미터 튜닝** (e.g., `C` 값 조정, `solver` 변경)\n",
    "- **다른 모델 적용**: Random Forest, XGBoost, Gradient Boosting 등\n",
    "- **언더샘플링 또는 복합샘플링** 기법과의 조합\n"
   ]
  }
 ],
 "metadata": {
  "kernelspec": {
   "display_name": "Python 3 (ipykernel)",
   "language": "python",
   "name": "python3"
  },
  "language_info": {
   "codemirror_mode": {
    "name": "ipython",
    "version": 3
   },
   "file_extension": ".py",
   "mimetype": "text/x-python",
   "name": "python",
   "nbconvert_exporter": "python",
   "pygments_lexer": "ipython3",
   "version": "3.13.5"
  }
 },
 "nbformat": 4,
 "nbformat_minor": 5
}
